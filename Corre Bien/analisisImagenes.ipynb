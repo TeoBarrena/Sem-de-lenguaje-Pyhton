{
 "cells": [
  {
   "cell_type": "code",
   "execution_count": 1,
   "id": "9af350cf",
   "metadata": {},
   "outputs": [],
   "source": [
    "import pandas as pd\n",
    "import csv\n",
    "import matplotlib\n",
    "from matplotlib import pyplot as plt\n",
    "import numpy as np\n",
    "from PIL import Image\n",
    "from wordcloud import WordCloud, STOPWORDS\n",
    "import matplotlib.pyplot as plt\n",
    "import ast"
   ]
  },
  {
   "cell_type": "markdown",
   "id": "0bdc0ff3",
   "metadata": {},
   "source": [
    "Analisis de imagenes clasificadas"
   ]
  },
  {
   "cell_type": "code",
   "execution_count": 2,
   "id": "097a86dd",
   "metadata": {},
   "outputs": [],
   "source": [
    "#Leemos nuestros archivo de imagenes csv\n",
    "archivo_imagenes = 'imagenes.csv'\n",
    "with open(archivo_imagenes, encoding='utf-8') as data_set:\n",
    "    reader = csv.reader(data_set, delimiter=',')\n",
    "    encabezado, datos = next(reader), list(reader)"
   ]
  },
  {
   "cell_type": "code",
   "execution_count": 3,
   "id": "38944967",
   "metadata": {},
   "outputs": [
    {
     "data": {
      "text/html": [
       "<div>\n",
       "<style scoped>\n",
       "    .dataframe tbody tr th:only-of-type {\n",
       "        vertical-align: middle;\n",
       "    }\n",
       "\n",
       "    .dataframe tbody tr th {\n",
       "        vertical-align: top;\n",
       "    }\n",
       "\n",
       "    .dataframe thead th {\n",
       "        text-align: right;\n",
       "    }\n",
       "</style>\n",
       "<table border=\"1\" class=\"dataframe\">\n",
       "  <thead>\n",
       "    <tr style=\"text-align: right;\">\n",
       "      <th></th>\n",
       "      <th>Ubicación</th>\n",
       "      <th>Descripción</th>\n",
       "      <th>Resolución</th>\n",
       "      <th>Tamaño</th>\n",
       "      <th>Tipo</th>\n",
       "      <th>Etiquetas</th>\n",
       "      <th>Ultimo Perfil</th>\n",
       "      <th>Fecha</th>\n",
       "    </tr>\n",
       "  </thead>\n",
       "  <tbody>\n",
       "    <tr>\n",
       "      <th>0</th>\n",
       "      <td>/home/alumno/Escritorio/Ultimo/grupo28/segunda...</td>\n",
       "      <td>Configuracion</td>\n",
       "      <td>(1200, 1200)</td>\n",
       "      <td>142085</td>\n",
       "      <td>png</td>\n",
       "      <td>#hola #chau</td>\n",
       "      <td>tripero</td>\n",
       "      <td>10/06/2023</td>\n",
       "    </tr>\n",
       "    <tr>\n",
       "      <th>1</th>\n",
       "      <td>/home/alumno/Escritorio/Ultimo/grupo28/segunda...</td>\n",
       "      <td>asd</td>\n",
       "      <td>(750, 969)</td>\n",
       "      <td>25119</td>\n",
       "      <td>png</td>\n",
       "      <td>#asd #asd #asd</td>\n",
       "      <td>t2</td>\n",
       "      <td>11/06/2023</td>\n",
       "    </tr>\n",
       "    <tr>\n",
       "      <th>2</th>\n",
       "      <td>/home/alumno/Escritorio/Ultimo/grupo28/segunda...</td>\n",
       "      <td>NaN</td>\n",
       "      <td>(1200, 1200)</td>\n",
       "      <td>8580</td>\n",
       "      <td>png</td>\n",
       "      <td>#qwe #qw #q</td>\n",
       "      <td>t2</td>\n",
       "      <td>11/06/2023</td>\n",
       "    </tr>\n",
       "    <tr>\n",
       "      <th>3</th>\n",
       "      <td>/home/alumno/Escritorio/Ultimo/grupo28/segunda...</td>\n",
       "      <td>NaN</td>\n",
       "      <td>(750, 969)</td>\n",
       "      <td>236873</td>\n",
       "      <td>png</td>\n",
       "      <td>#asd</td>\n",
       "      <td>tripero</td>\n",
       "      <td>14/06/2023</td>\n",
       "    </tr>\n",
       "    <tr>\n",
       "      <th>4</th>\n",
       "      <td>/home/alumno/Escritorio/Ultimo/grupo28/segunda...</td>\n",
       "      <td>asd</td>\n",
       "      <td>(750, 969)</td>\n",
       "      <td>86564</td>\n",
       "      <td>png</td>\n",
       "      <td>#cvb</td>\n",
       "      <td>tripero</td>\n",
       "      <td>14/06/2023</td>\n",
       "    </tr>\n",
       "    <tr>\n",
       "      <th>5</th>\n",
       "      <td>/home/alumno/Escritorio/Ultimo/grupo28/segunda...</td>\n",
       "      <td>NaN</td>\n",
       "      <td>(1200, 1200)</td>\n",
       "      <td>31473</td>\n",
       "      <td>png</td>\n",
       "      <td>#awfrqwr #hola</td>\n",
       "      <td>tripero</td>\n",
       "      <td>15/06/2023</td>\n",
       "    </tr>\n",
       "    <tr>\n",
       "      <th>6</th>\n",
       "      <td>/home/alumno/Escritorio/Ultimo/grupo28/segunda...</td>\n",
       "      <td>NaN</td>\n",
       "      <td>(1000, 1000)</td>\n",
       "      <td>47913</td>\n",
       "      <td>png</td>\n",
       "      <td>#awfwef</td>\n",
       "      <td>t2</td>\n",
       "      <td>14/06/2023</td>\n",
       "    </tr>\n",
       "    <tr>\n",
       "      <th>7</th>\n",
       "      <td>/home/alumno/Escritorio/Ultimo/grupo28/segunda...</td>\n",
       "      <td>NaN</td>\n",
       "      <td>(750, 969)</td>\n",
       "      <td>76794</td>\n",
       "      <td>png</td>\n",
       "      <td>#kok</td>\n",
       "      <td>sdf</td>\n",
       "      <td>14/06/2023</td>\n",
       "    </tr>\n",
       "    <tr>\n",
       "      <th>8</th>\n",
       "      <td>/home/alumno/Escritorio/Ultimo/grupo28/segunda...</td>\n",
       "      <td>NaN</td>\n",
       "      <td>(268, 252)</td>\n",
       "      <td>740</td>\n",
       "      <td>png</td>\n",
       "      <td>NaN</td>\n",
       "      <td>t2</td>\n",
       "      <td>14/06/2023</td>\n",
       "    </tr>\n",
       "    <tr>\n",
       "      <th>9</th>\n",
       "      <td>/home/alumno/Escritorio/Ultimo/grupo28/segunda...</td>\n",
       "      <td>NaN</td>\n",
       "      <td>(750, 969)</td>\n",
       "      <td>67466</td>\n",
       "      <td>png</td>\n",
       "      <td>#asdf #</td>\n",
       "      <td>tripero</td>\n",
       "      <td>15/06/2023</td>\n",
       "    </tr>\n",
       "  </tbody>\n",
       "</table>\n",
       "</div>"
      ],
      "text/plain": [
       "                                           Ubicación    Descripción  \\\n",
       "0  /home/alumno/Escritorio/Ultimo/grupo28/segunda...  Configuracion   \n",
       "1  /home/alumno/Escritorio/Ultimo/grupo28/segunda...            asd   \n",
       "2  /home/alumno/Escritorio/Ultimo/grupo28/segunda...            NaN   \n",
       "3  /home/alumno/Escritorio/Ultimo/grupo28/segunda...            NaN   \n",
       "4  /home/alumno/Escritorio/Ultimo/grupo28/segunda...            asd   \n",
       "5  /home/alumno/Escritorio/Ultimo/grupo28/segunda...            NaN   \n",
       "6  /home/alumno/Escritorio/Ultimo/grupo28/segunda...            NaN   \n",
       "7  /home/alumno/Escritorio/Ultimo/grupo28/segunda...            NaN   \n",
       "8  /home/alumno/Escritorio/Ultimo/grupo28/segunda...            NaN   \n",
       "9  /home/alumno/Escritorio/Ultimo/grupo28/segunda...            NaN   \n",
       "\n",
       "     Resolución  Tamaño Tipo       Etiquetas Ultimo Perfil       Fecha  \n",
       "0  (1200, 1200)  142085  png     #hola #chau       tripero  10/06/2023  \n",
       "1    (750, 969)   25119  png  #asd #asd #asd            t2  11/06/2023  \n",
       "2  (1200, 1200)    8580  png     #qwe #qw #q            t2  11/06/2023  \n",
       "3    (750, 969)  236873  png            #asd       tripero  14/06/2023  \n",
       "4    (750, 969)   86564  png            #cvb       tripero  14/06/2023  \n",
       "5  (1200, 1200)   31473  png  #awfrqwr #hola       tripero  15/06/2023  \n",
       "6  (1000, 1000)   47913  png         #awfwef            t2  14/06/2023  \n",
       "7    (750, 969)   76794  png            #kok           sdf  14/06/2023  \n",
       "8    (268, 252)     740  png             NaN            t2  14/06/2023  \n",
       "9    (750, 969)   67466  png         #asdf #       tripero  15/06/2023  "
      ]
     },
     "execution_count": 3,
     "metadata": {},
     "output_type": "execute_result"
    }
   ],
   "source": [
    "#A partir del archivo csv leido creamos el primer data set y lo imprimimos en pantalla\n",
    "data_set = pd.read_csv(archivo_imagenes, encoding='utf-8')\n",
    "data_set"
   ]
  },
  {
   "cell_type": "markdown",
   "id": "fed8b3c8",
   "metadata": {},
   "source": [
    "Gráfico de torta que muestra los porcentajes según el tipo de imagen"
   ]
  },
  {
   "cell_type": "code",
   "execution_count": 4,
   "id": "b02363e3",
   "metadata": {},
   "outputs": [],
   "source": [
    "tipo_imagen = data_set['Tipo'].value_counts().sort_values(ascending=False) #extraemos los tipos, los contamos y los ordenamos de manera descendente\n",
    "tipos = list(tipo_imagen.index) #listamos los tipos para la leyenda a un costado del grafico"
   ]
  },
  {
   "cell_type": "code",
   "execution_count": 5,
   "id": "e8f30dbf",
   "metadata": {},
   "outputs": [
    {
     "data": {
      "image/png": "[encoded data removed]",
      "text/plain": [
       "<Figure size 640x480 with 1 Axes>"
      ]
     },
     "metadata": {},
     "output_type": "display_data"
    }
   ],
   "source": [
    "#creamos el grafico de torta con los datos extraidos en la celda anterior\n",
    "plt.pie(tipo_imagen,labels = tipos,autopct='%1.1f%%',shadow=True, startangle=120, labeldistance= 1.1)\n",
    "plt.axis('equal')\n",
    "plt.legend(tipos)\n",
    "plt.title(\"Distribucion de tipos de imagenes\")\n",
    "plt.show()"
   ]
  },
  {
   "cell_type": "code",
   "execution_count": 6,
   "id": "a40ffeb4",
   "metadata": {},
   "outputs": [
    {
     "ename": "SyntaxError",
     "evalue": "invalid syntax (639182109.py, line 1)",
     "output_type": "error",
     "traceback": [
      "\u001b[0;36m  Cell \u001b[0;32mIn[6], line 1\u001b[0;36m\u001b[0m\n\u001b[0;31m    Calculo de los valores máximos de ancho y de alto de las imágenes clasificadas\u001b[0m\n\u001b[0m            ^\u001b[0m\n\u001b[0;31mSyntaxError\u001b[0m\u001b[0;31m:\u001b[0m invalid syntax\n"
     ]
    }
   ],
   "source": [
    "Calculo de los valores máximos de ancho y de alto de las imágenes clasificadas"
   ]
  },
  {
   "cell_type": "code",
   "execution_count": null,
   "id": "3701c582",
   "metadata": {},
   "outputs": [],
   "source": [
    "#Extraemos las resoluciones del data set y las listamos\n",
    "resoluciones = list(data_set['Resolución'])\n",
    "resoluciones"
   ]
  },
  {
   "cell_type": "code",
   "execution_count": null,
   "id": "62f3078b",
   "metadata": {},
   "outputs": [],
   "source": [
    "#Como es una lista de strings, no de tuplas que es lo que queremos hacemos una serie de pasos en una linea de codigo\n",
    "#Para convertilas en tuplas de enteros\n",
    "#Hacemos un tuple de cada uno de los valores pasados a enteros \n",
    "tuplas = [tuple(map(int, tupla.strip('()').split(', '))) for tupla in resoluciones]\n",
    "tuplas"
   ]
  },
  {
   "cell_type": "code",
   "execution_count": null,
   "id": "9eeb2b0a",
   "metadata": {},
   "outputs": [],
   "source": [
    "#Ahora con la lista de tuplas calculamos el alto y el ancho maximo\n",
    "maximo_alto = max(resolucion[0] for resolucion in tuplas)\n",
    "maximo_ancho = max(resolucion[1] for resolucion in tuplas)\n",
    "print('La maxima altura es', maximo_alto, 'px')\n",
    "print('El maximo ancho es', maximo_ancho, 'px')"
   ]
  },
  {
   "cell_type": "markdown",
   "id": "d9d0850b",
   "metadata": {},
   "source": [
    "Se informa cuáles son los 3 tags más utilizados"
   ]
  },
  {
   "cell_type": "code",
   "execution_count": 47,
   "id": "e1aa4299",
   "metadata": {},
   "outputs": [
    {
     "data": {
      "text/plain": [
       "0       #hola #chau\n",
       "1    #asd #asd #asd\n",
       "2       #qwe #qw #q\n",
       "3              #asd\n",
       "4              #cvb\n",
       "5    #awfrqwr #hola\n",
       "6           #awfwef\n",
       "7              #kok\n",
       "9           #asdf #\n",
       "Name: Etiquetas, dtype: object"
      ]
     },
     "execution_count": 47,
     "metadata": {},
     "output_type": "execute_result"
    }
   ],
   "source": [
    "#Extraemos los tags del data set y eliminamos con dropna los valores NaN\n",
    "tags = data_set['Etiquetas']\n",
    "tags=tags.dropna()\n",
    "tags"
   ]
  },
  {
   "cell_type": "code",
   "execution_count": 48,
   "id": "943afb25",
   "metadata": {},
   "outputs": [
    {
     "data": {
      "text/plain": [
       "['hola',\n",
       " 'chau',\n",
       " 'asd',\n",
       " 'asd',\n",
       " 'asd',\n",
       " 'qwe',\n",
       " 'qw',\n",
       " 'q',\n",
       " 'asd',\n",
       " 'cvb',\n",
       " 'awfrqwr',\n",
       " 'hola',\n",
       " 'awfwef',\n",
       " 'kok',\n",
       " 'asdf']"
      ]
     },
     "execution_count": 48,
     "metadata": {},
     "output_type": "execute_result"
    }
   ],
   "source": [
    "#Ahora con estos datos extraidos hacemos un join para unirlos en una lista eliminandoles los numerales con replace\n",
    "lista_tags = ' '.join(list(tags)).replace('#','').split()\n",
    "lista_tags"
   ]
  },
  {
   "cell_type": "code",
   "execution_count": 49,
   "id": "24d05723",
   "metadata": {},
   "outputs": [
    {
     "data": {
      "text/html": [
       "<div>\n",
       "<style scoped>\n",
       "    .dataframe tbody tr th:only-of-type {\n",
       "        vertical-align: middle;\n",
       "    }\n",
       "\n",
       "    .dataframe tbody tr th {\n",
       "        vertical-align: top;\n",
       "    }\n",
       "\n",
       "    .dataframe thead th {\n",
       "        text-align: right;\n",
       "    }\n",
       "</style>\n",
       "<table border=\"1\" class=\"dataframe\">\n",
       "  <thead>\n",
       "    <tr style=\"text-align: right;\">\n",
       "      <th></th>\n",
       "      <th>etiquetas</th>\n",
       "    </tr>\n",
       "  </thead>\n",
       "  <tbody>\n",
       "    <tr>\n",
       "      <th>0</th>\n",
       "      <td>hola</td>\n",
       "    </tr>\n",
       "    <tr>\n",
       "      <th>1</th>\n",
       "      <td>chau</td>\n",
       "    </tr>\n",
       "    <tr>\n",
       "      <th>2</th>\n",
       "      <td>asd</td>\n",
       "    </tr>\n",
       "    <tr>\n",
       "      <th>3</th>\n",
       "      <td>asd</td>\n",
       "    </tr>\n",
       "    <tr>\n",
       "      <th>4</th>\n",
       "      <td>asd</td>\n",
       "    </tr>\n",
       "    <tr>\n",
       "      <th>5</th>\n",
       "      <td>qwe</td>\n",
       "    </tr>\n",
       "    <tr>\n",
       "      <th>6</th>\n",
       "      <td>qw</td>\n",
       "    </tr>\n",
       "    <tr>\n",
       "      <th>7</th>\n",
       "      <td>q</td>\n",
       "    </tr>\n",
       "    <tr>\n",
       "      <th>8</th>\n",
       "      <td>asd</td>\n",
       "    </tr>\n",
       "    <tr>\n",
       "      <th>9</th>\n",
       "      <td>cvb</td>\n",
       "    </tr>\n",
       "    <tr>\n",
       "      <th>10</th>\n",
       "      <td>awfrqwr</td>\n",
       "    </tr>\n",
       "    <tr>\n",
       "      <th>11</th>\n",
       "      <td>hola</td>\n",
       "    </tr>\n",
       "    <tr>\n",
       "      <th>12</th>\n",
       "      <td>awfwef</td>\n",
       "    </tr>\n",
       "    <tr>\n",
       "      <th>13</th>\n",
       "      <td>kok</td>\n",
       "    </tr>\n",
       "    <tr>\n",
       "      <th>14</th>\n",
       "      <td>asdf</td>\n",
       "    </tr>\n",
       "  </tbody>\n",
       "</table>\n",
       "</div>"
      ],
      "text/plain": [
       "   etiquetas\n",
       "0       hola\n",
       "1       chau\n",
       "2        asd\n",
       "3        asd\n",
       "4        asd\n",
       "5        qwe\n",
       "6         qw\n",
       "7          q\n",
       "8        asd\n",
       "9        cvb\n",
       "10   awfrqwr\n",
       "11      hola\n",
       "12    awfwef\n",
       "13       kok\n",
       "14      asdf"
      ]
     },
     "execution_count": 49,
     "metadata": {},
     "output_type": "execute_result"
    }
   ],
   "source": [
    "#Con esta lista creamos un nuevo data frame llamado df_tags\n",
    "datos_tags = {'etiquetas': lista_tags}\n",
    "df_tags = pd.DataFrame(data=datos_tags)\n",
    "df_tags"
   ]
  },
  {
   "cell_type": "code",
   "execution_count": 50,
   "id": "da9d0ef6",
   "metadata": {},
   "outputs": [
    {
     "data": {
      "text/plain": [
       "asd     4\n",
       "hola    2\n",
       "chau    1\n",
       "Name: etiquetas, dtype: int64"
      ]
     },
     "execution_count": 50,
     "metadata": {},
     "output_type": "execute_result"
    }
   ],
   "source": [
    "#De este data frame calculamos los mas populares con un value counts en descendente y extrayendo solo los 3 primeros\n",
    "mas_populares = df_tags['etiquetas'].value_counts().sort_values(ascending=False).head(3)\n",
    "mas_populares"
   ]
  },
  {
   "cell_type": "code",
   "execution_count": 51,
   "id": "ae4c08f1",
   "metadata": {},
   "outputs": [],
   "source": [
    "#Con estos tres datos mas populares creamos un data frame nuevo listo para mostrar como resultado\n",
    "datos_mas_populares = {'etiqueta': list(mas_populares.index), 'usos': list(mas_populares.values)}\n",
    "tres_mas_populares = pd.DataFrame(data=datos_mas_populares, index=['1','2','3'])\n"
   ]
  },
  {
   "cell_type": "markdown",
   "id": "a48ccf9d",
   "metadata": {},
   "source": [
    "Resultado:"
   ]
  },
  {
   "cell_type": "code",
   "execution_count": 52,
   "id": "37ce875f",
   "metadata": {},
   "outputs": [
    {
     "data": {
      "text/html": [
       "<div>\n",
       "<style scoped>\n",
       "    .dataframe tbody tr th:only-of-type {\n",
       "        vertical-align: middle;\n",
       "    }\n",
       "\n",
       "    .dataframe tbody tr th {\n",
       "        vertical-align: top;\n",
       "    }\n",
       "\n",
       "    .dataframe thead th {\n",
       "        text-align: right;\n",
       "    }\n",
       "</style>\n",
       "<table border=\"1\" class=\"dataframe\">\n",
       "  <thead>\n",
       "    <tr style=\"text-align: right;\">\n",
       "      <th></th>\n",
       "      <th>etiqueta</th>\n",
       "      <th>usos</th>\n",
       "    </tr>\n",
       "  </thead>\n",
       "  <tbody>\n",
       "    <tr>\n",
       "      <th>1</th>\n",
       "      <td>asd</td>\n",
       "      <td>4</td>\n",
       "    </tr>\n",
       "    <tr>\n",
       "      <th>2</th>\n",
       "      <td>hola</td>\n",
       "      <td>2</td>\n",
       "    </tr>\n",
       "    <tr>\n",
       "      <th>3</th>\n",
       "      <td>chau</td>\n",
       "      <td>1</td>\n",
       "    </tr>\n",
       "  </tbody>\n",
       "</table>\n",
       "</div>"
      ],
      "text/plain": [
       "  etiqueta  usos\n",
       "1      asd     4\n",
       "2     hola     2\n",
       "3     chau     1"
      ]
     },
     "execution_count": 52,
     "metadata": {},
     "output_type": "execute_result"
    }
   ],
   "source": [
    "tres_mas_populares"
   ]
  },
  {
   "cell_type": "markdown",
   "id": "0ef9465e",
   "metadata": {},
   "source": [
    "Con la lista de tags generar una nube de palabras"
   ]
  },
  {
   "cell_type": "code",
   "execution_count": 20,
   "id": "862da53f",
   "metadata": {},
   "outputs": [
    {
     "data": {
      "image/png": "[encoded data removed]",
      "text/plain": [
       "<Figure size 4000x3000 with 1 Axes>"
      ]
     },
     "metadata": {},
     "output_type": "display_data"
    }
   ],
   "source": [
    "#Usamos como texto la lista de tags antes extraida para calcular el punto anterior y con wordcloud graficamos\n",
    "def plot_cloud(wordcloud):\n",
    "    # Set figure size\n",
    "    plt.figure(figsize=(40, 30))\n",
    "    # Display image\n",
    "    plt.imshow(wordcloud)\n",
    "    # No axis details\n",
    "    plt.axis(\"off\");\n",
    "text = ' '.join(list(tags)).replace('#','')\n",
    "\n",
    "# Generate wordcloud\n",
    "wordcloud = WordCloud(width = 300, height = 200, random_state=1, background_color='white', colormap='Set2', collocations=False, stopwords = STOPWORDS).generate(text)\n",
    "# Plot\n",
    "plot_cloud(wordcloud)"
   ]
  },
  {
   "cell_type": "markdown",
   "id": "313a88b3",
   "metadata": {},
   "source": [
    "Generar un gráfico de dispersión para visualizar la relación entre el ancho y el alto\n",
    "de las imágenes"
   ]
  },
  {
   "cell_type": "code",
   "execution_count": 21,
   "id": "48b364ba",
   "metadata": {},
   "outputs": [],
   "source": [
    "#A partir del DataSet principal creamos un nuevo dataFrame extrayendo la resolucion separando el ancho y la altura de las imagenes \n",
    "#\n",
    "df_resoluciones = pd.DataFrame(data = {'Altura': data_set['Resolución'].apply(lambda x:eval(x)[0]), 'Ancho': data_set['Resolución'].apply(lambda x:eval(x)[1])})"
   ]
  },
  {
   "cell_type": "code",
   "execution_count": 22,
   "id": "ec22cca0",
   "metadata": {},
   "outputs": [
    {
     "data": {
      "text/html": [
       "<div>\n",
       "<style scoped>\n",
       "    .dataframe tbody tr th:only-of-type {\n",
       "        vertical-align: middle;\n",
       "    }\n",
       "\n",
       "    .dataframe tbody tr th {\n",
       "        vertical-align: top;\n",
       "    }\n",
       "\n",
       "    .dataframe thead th {\n",
       "        text-align: right;\n",
       "    }\n",
       "</style>\n",
       "<table border=\"1\" class=\"dataframe\">\n",
       "  <thead>\n",
       "    <tr style=\"text-align: right;\">\n",
       "      <th></th>\n",
       "      <th>Altura</th>\n",
       "      <th>Ancho</th>\n",
       "    </tr>\n",
       "  </thead>\n",
       "  <tbody>\n",
       "    <tr>\n",
       "      <th>0</th>\n",
       "      <td>1200</td>\n",
       "      <td>1200</td>\n",
       "    </tr>\n",
       "    <tr>\n",
       "      <th>1</th>\n",
       "      <td>750</td>\n",
       "      <td>969</td>\n",
       "    </tr>\n",
       "    <tr>\n",
       "      <th>2</th>\n",
       "      <td>1200</td>\n",
       "      <td>1200</td>\n",
       "    </tr>\n",
       "    <tr>\n",
       "      <th>3</th>\n",
       "      <td>750</td>\n",
       "      <td>969</td>\n",
       "    </tr>\n",
       "    <tr>\n",
       "      <th>4</th>\n",
       "      <td>750</td>\n",
       "      <td>969</td>\n",
       "    </tr>\n",
       "    <tr>\n",
       "      <th>5</th>\n",
       "      <td>1200</td>\n",
       "      <td>1200</td>\n",
       "    </tr>\n",
       "    <tr>\n",
       "      <th>6</th>\n",
       "      <td>1000</td>\n",
       "      <td>1000</td>\n",
       "    </tr>\n",
       "    <tr>\n",
       "      <th>7</th>\n",
       "      <td>750</td>\n",
       "      <td>969</td>\n",
       "    </tr>\n",
       "    <tr>\n",
       "      <th>8</th>\n",
       "      <td>268</td>\n",
       "      <td>252</td>\n",
       "    </tr>\n",
       "    <tr>\n",
       "      <th>9</th>\n",
       "      <td>750</td>\n",
       "      <td>969</td>\n",
       "    </tr>\n",
       "  </tbody>\n",
       "</table>\n",
       "</div>"
      ],
      "text/plain": [
       "   Altura  Ancho\n",
       "0    1200   1200\n",
       "1     750    969\n",
       "2    1200   1200\n",
       "3     750    969\n",
       "4     750    969\n",
       "5    1200   1200\n",
       "6    1000   1000\n",
       "7     750    969\n",
       "8     268    252\n",
       "9     750    969"
      ]
     },
     "execution_count": 22,
     "metadata": {},
     "output_type": "execute_result"
    }
   ],
   "source": [
    "df_resoluciones"
   ]
  },
  {
   "cell_type": "code",
   "execution_count": 23,
   "id": "9b5a7ca0",
   "metadata": {},
   "outputs": [
    {
     "data": {
      "image/png": "[encoded data removed]",
      "text/plain": [
       "<Figure size 640x480 with 1 Axes>"
      ]
     },
     "metadata": {},
     "output_type": "display_data"
    }
   ],
   "source": [
    "#Con la tabla de dos variables ya podemos hacer el grafico de dispersion entre ancho y altura\n",
    "grafico_dispersion = df_resoluciones.plot.scatter(x='Altura',y='Ancho',c='Blue',s=50)\n",
    "grafico_dispersion.plot()\n",
    "plt.show()"
   ]
  },
  {
   "cell_type": "markdown",
   "id": "42826144",
   "metadata": {},
   "source": [
    "Crear un gráfico de líneas para visualizar la evolución de la cantidad de\n",
    "actualizaciones a lo largo del tiempo"
   ]
  },
  {
   "cell_type": "code",
   "execution_count": 24,
   "id": "caaaf6f3",
   "metadata": {},
   "outputs": [],
   "source": [
    "#Para este caso vamos a necesitar el archivo csv de logs del sistema (perfiles.csv)\n",
    "archivo_perfiles = 'perfiles.csv'\n",
    "with open(archivo_perfiles, encoding='utf-8') as data_set2:\n",
    "    reader = csv.reader(data_set2, delimiter=',')\n",
    "    encabezado, datos = next(reader), list(reader)"
   ]
  },
  {
   "cell_type": "code",
   "execution_count": 26,
   "id": "9ddf7ed3",
   "metadata": {},
   "outputs": [],
   "source": [
    "#Creamos el dataFrame nuevo para perfiles\n",
    "data_set2 = pd.read_csv(archivo_perfiles, encoding='utf-8')"
   ]
  },
  {
   "cell_type": "code",
   "execution_count": 27,
   "id": "5b93d582",
   "metadata": {},
   "outputs": [
    {
     "data": {
      "text/html": [
       "<div>\n",
       "<style scoped>\n",
       "    .dataframe tbody tr th:only-of-type {\n",
       "        vertical-align: middle;\n",
       "    }\n",
       "\n",
       "    .dataframe tbody tr th {\n",
       "        vertical-align: top;\n",
       "    }\n",
       "\n",
       "    .dataframe thead th {\n",
       "        text-align: right;\n",
       "    }\n",
       "</style>\n",
       "<table border=\"1\" class=\"dataframe\">\n",
       "  <thead>\n",
       "    <tr style=\"text-align: right;\">\n",
       "      <th></th>\n",
       "      <th>Fecha</th>\n",
       "      <th>Hora</th>\n",
       "      <th>Nick</th>\n",
       "      <th>Operacion</th>\n",
       "      <th>Nombre foto</th>\n",
       "    </tr>\n",
       "  </thead>\n",
       "  <tbody>\n",
       "    <tr>\n",
       "      <th>0</th>\n",
       "      <td>14/06/2023</td>\n",
       "      <td>20:18:02.423236</td>\n",
       "      <td>tripero</td>\n",
       "      <td>Actualizacion</td>\n",
       "      <td>/home/alumno/Escritorio/Ultimo/grupo28/segunda...</td>\n",
       "    </tr>\n",
       "    <tr>\n",
       "      <th>1</th>\n",
       "      <td>14/06/2023</td>\n",
       "      <td>20:18:09.082932</td>\n",
       "      <td>tripero</td>\n",
       "      <td>Actualizacion</td>\n",
       "      <td>/home/alumno/Escritorio/Ultimo/grupo28/segunda...</td>\n",
       "    </tr>\n",
       "    <tr>\n",
       "      <th>2</th>\n",
       "      <td>14/06/2023</td>\n",
       "      <td>20:18:14.466234</td>\n",
       "      <td>tripero</td>\n",
       "      <td>Actualizacion</td>\n",
       "      <td>/home/alumno/Escritorio/Ultimo/grupo28/segunda...</td>\n",
       "    </tr>\n",
       "    <tr>\n",
       "      <th>3</th>\n",
       "      <td>14/06/2023</td>\n",
       "      <td>20:18:28.216959</td>\n",
       "      <td>t2</td>\n",
       "      <td>Actualizacion</td>\n",
       "      <td>/home/alumno/Escritorio/Ultimo/grupo28/segunda...</td>\n",
       "    </tr>\n",
       "    <tr>\n",
       "      <th>4</th>\n",
       "      <td>14/06/2023</td>\n",
       "      <td>20:18:33.737998</td>\n",
       "      <td>t2</td>\n",
       "      <td>Creo</td>\n",
       "      <td>/home/alumno/Escritorio/Ultimo/grupo28/segunda...</td>\n",
       "    </tr>\n",
       "    <tr>\n",
       "      <th>5</th>\n",
       "      <td>14/06/2023</td>\n",
       "      <td>20:18:37.554535</td>\n",
       "      <td>t2</td>\n",
       "      <td>Actualizacion</td>\n",
       "      <td>/home/alumno/Escritorio/Ultimo/grupo28/segunda...</td>\n",
       "    </tr>\n",
       "    <tr>\n",
       "      <th>6</th>\n",
       "      <td>14/06/2023</td>\n",
       "      <td>20:18:42.884402</td>\n",
       "      <td>t2</td>\n",
       "      <td>Actualizacion</td>\n",
       "      <td>/home/alumno/Escritorio/Ultimo/grupo28/segunda...</td>\n",
       "    </tr>\n",
       "    <tr>\n",
       "      <th>7</th>\n",
       "      <td>15/06/2023</td>\n",
       "      <td>08:36:53.661797</td>\n",
       "      <td>tripero</td>\n",
       "      <td>Actualizacion</td>\n",
       "      <td>/home/alumno/Escritorio/Ultimo/grupo28/segunda...</td>\n",
       "    </tr>\n",
       "    <tr>\n",
       "      <th>8</th>\n",
       "      <td>15/06/2023</td>\n",
       "      <td>08:37:12.583191</td>\n",
       "      <td>tripero</td>\n",
       "      <td>Creo</td>\n",
       "      <td>/home/alumno/Escritorio/Ultimo/grupo28/segunda...</td>\n",
       "    </tr>\n",
       "    <tr>\n",
       "      <th>9</th>\n",
       "      <td>15/06/2023</td>\n",
       "      <td>08:37:26.302342</td>\n",
       "      <td>tripero</td>\n",
       "      <td>Actualizacion</td>\n",
       "      <td>/home/alumno/Escritorio/Ultimo/grupo28/segunda...</td>\n",
       "    </tr>\n",
       "    <tr>\n",
       "      <th>10</th>\n",
       "      <td>15/06/2023</td>\n",
       "      <td>09:05:03.286076</td>\n",
       "      <td>tripero</td>\n",
       "      <td>Actualizacion</td>\n",
       "      <td>/home/alumno/Escritorio/Ultimo/grupo28/segunda...</td>\n",
       "    </tr>\n",
       "  </tbody>\n",
       "</table>\n",
       "</div>"
      ],
      "text/plain": [
       "         Fecha             Hora     Nick      Operacion  \\\n",
       "0   14/06/2023  20:18:02.423236  tripero  Actualizacion   \n",
       "1   14/06/2023  20:18:09.082932  tripero  Actualizacion   \n",
       "2   14/06/2023  20:18:14.466234  tripero  Actualizacion   \n",
       "3   14/06/2023  20:18:28.216959       t2  Actualizacion   \n",
       "4   14/06/2023  20:18:33.737998       t2           Creo   \n",
       "5   14/06/2023  20:18:37.554535       t2  Actualizacion   \n",
       "6   14/06/2023  20:18:42.884402       t2  Actualizacion   \n",
       "7   15/06/2023  08:36:53.661797  tripero  Actualizacion   \n",
       "8   15/06/2023  08:37:12.583191  tripero           Creo   \n",
       "9   15/06/2023  08:37:26.302342  tripero  Actualizacion   \n",
       "10  15/06/2023  09:05:03.286076  tripero  Actualizacion   \n",
       "\n",
       "                                          Nombre foto  \n",
       "0   /home/alumno/Escritorio/Ultimo/grupo28/segunda...  \n",
       "1   /home/alumno/Escritorio/Ultimo/grupo28/segunda...  \n",
       "2   /home/alumno/Escritorio/Ultimo/grupo28/segunda...  \n",
       "3   /home/alumno/Escritorio/Ultimo/grupo28/segunda...  \n",
       "4   /home/alumno/Escritorio/Ultimo/grupo28/segunda...  \n",
       "5   /home/alumno/Escritorio/Ultimo/grupo28/segunda...  \n",
       "6   /home/alumno/Escritorio/Ultimo/grupo28/segunda...  \n",
       "7   /home/alumno/Escritorio/Ultimo/grupo28/segunda...  \n",
       "8   /home/alumno/Escritorio/Ultimo/grupo28/segunda...  \n",
       "9   /home/alumno/Escritorio/Ultimo/grupo28/segunda...  \n",
       "10  /home/alumno/Escritorio/Ultimo/grupo28/segunda...  "
      ]
     },
     "execution_count": 27,
     "metadata": {},
     "output_type": "execute_result"
    }
   ],
   "source": [
    "data_set2"
   ]
  },
  {
   "cell_type": "code",
   "execution_count": 31,
   "id": "ada13f7d",
   "metadata": {},
   "outputs": [
    {
     "data": {
      "text/plain": [
       "Fecha\n",
       "14/06/2023    6\n",
       "15/06/2023    3\n",
       "Name: Operacion, dtype: int64"
      ]
     },
     "execution_count": 31,
     "metadata": {},
     "output_type": "execute_result"
    }
   ],
   "source": [
    "#Extraemos solo las opreciones de actualizacion \n",
    "actualizaciones = data_set2[(data_set2['Operacion']== 'Actualizacion')]\n",
    "#Las agrupamos por fecha y las contabilizamos\n",
    "actualizaciones = actualizaciones.groupby(['Fecha']).count()\n",
    "#Nos quedamos solo con la columna de operacion\n",
    "actualizaciones = actualizaciones['Operacion']\n",
    "actualizaciones"
   ]
  },
  {
   "cell_type": "code",
   "execution_count": 33,
   "id": "fce137c6",
   "metadata": {},
   "outputs": [
    {
     "data": {
      "text/plain": [
       "<Axes: xlabel='Fecha de actualizacion', ylabel='Cantidad de actualizaciones'>"
      ]
     },
     "execution_count": 33,
     "metadata": {},
     "output_type": "execute_result"
    },
    {
     "data": {
      "image/png": "[encoded data removed]",
      "text/plain": [
       "<Figure size 1500x1500 with 1 Axes>"
      ]
     },
     "metadata": {},
     "output_type": "display_data"
    }
   ],
   "source": [
    "#Creamos el plot de 15x15 con sus respectivos labels\n",
    "actualizaciones.plot(figsize=(15,15), xlabel='Fecha de actualizacion', ylabel='Cantidad de actualizaciones', marker='o')"
   ]
  },
  {
   "cell_type": "markdown",
   "id": "25248434",
   "metadata": {},
   "source": [
    "En base a la fecha de última actualización, cantidad de cambios realizados para\n",
    "cada día de la semana"
   ]
  },
  {
   "cell_type": "code",
   "execution_count": 37,
   "id": "f26c0312",
   "metadata": {},
   "outputs": [
    {
     "data": {
      "text/html": [
       "<div>\n",
       "<style scoped>\n",
       "    .dataframe tbody tr th:only-of-type {\n",
       "        vertical-align: middle;\n",
       "    }\n",
       "\n",
       "    .dataframe tbody tr th {\n",
       "        vertical-align: top;\n",
       "    }\n",
       "\n",
       "    .dataframe thead th {\n",
       "        text-align: right;\n",
       "    }\n",
       "</style>\n",
       "<table border=\"1\" class=\"dataframe\">\n",
       "  <thead>\n",
       "    <tr style=\"text-align: right;\">\n",
       "      <th></th>\n",
       "      <th>Fecha</th>\n",
       "      <th>Hora</th>\n",
       "      <th>Nick</th>\n",
       "      <th>Operacion</th>\n",
       "      <th>Nombre foto</th>\n",
       "    </tr>\n",
       "  </thead>\n",
       "  <tbody>\n",
       "    <tr>\n",
       "      <th>0</th>\n",
       "      <td>14/06/2023</td>\n",
       "      <td>20:18:02.423236</td>\n",
       "      <td>tripero</td>\n",
       "      <td>Actualizacion</td>\n",
       "      <td>/home/alumno/Escritorio/Ultimo/grupo28/segunda...</td>\n",
       "    </tr>\n",
       "    <tr>\n",
       "      <th>1</th>\n",
       "      <td>14/06/2023</td>\n",
       "      <td>20:18:09.082932</td>\n",
       "      <td>tripero</td>\n",
       "      <td>Actualizacion</td>\n",
       "      <td>/home/alumno/Escritorio/Ultimo/grupo28/segunda...</td>\n",
       "    </tr>\n",
       "    <tr>\n",
       "      <th>2</th>\n",
       "      <td>14/06/2023</td>\n",
       "      <td>20:18:14.466234</td>\n",
       "      <td>tripero</td>\n",
       "      <td>Actualizacion</td>\n",
       "      <td>/home/alumno/Escritorio/Ultimo/grupo28/segunda...</td>\n",
       "    </tr>\n",
       "    <tr>\n",
       "      <th>3</th>\n",
       "      <td>14/06/2023</td>\n",
       "      <td>20:18:28.216959</td>\n",
       "      <td>t2</td>\n",
       "      <td>Actualizacion</td>\n",
       "      <td>/home/alumno/Escritorio/Ultimo/grupo28/segunda...</td>\n",
       "    </tr>\n",
       "    <tr>\n",
       "      <th>5</th>\n",
       "      <td>14/06/2023</td>\n",
       "      <td>20:18:37.554535</td>\n",
       "      <td>t2</td>\n",
       "      <td>Actualizacion</td>\n",
       "      <td>/home/alumno/Escritorio/Ultimo/grupo28/segunda...</td>\n",
       "    </tr>\n",
       "    <tr>\n",
       "      <th>6</th>\n",
       "      <td>14/06/2023</td>\n",
       "      <td>20:18:42.884402</td>\n",
       "      <td>t2</td>\n",
       "      <td>Actualizacion</td>\n",
       "      <td>/home/alumno/Escritorio/Ultimo/grupo28/segunda...</td>\n",
       "    </tr>\n",
       "    <tr>\n",
       "      <th>7</th>\n",
       "      <td>15/06/2023</td>\n",
       "      <td>08:36:53.661797</td>\n",
       "      <td>tripero</td>\n",
       "      <td>Actualizacion</td>\n",
       "      <td>/home/alumno/Escritorio/Ultimo/grupo28/segunda...</td>\n",
       "    </tr>\n",
       "    <tr>\n",
       "      <th>9</th>\n",
       "      <td>15/06/2023</td>\n",
       "      <td>08:37:26.302342</td>\n",
       "      <td>tripero</td>\n",
       "      <td>Actualizacion</td>\n",
       "      <td>/home/alumno/Escritorio/Ultimo/grupo28/segunda...</td>\n",
       "    </tr>\n",
       "    <tr>\n",
       "      <th>10</th>\n",
       "      <td>15/06/2023</td>\n",
       "      <td>09:05:03.286076</td>\n",
       "      <td>tripero</td>\n",
       "      <td>Actualizacion</td>\n",
       "      <td>/home/alumno/Escritorio/Ultimo/grupo28/segunda...</td>\n",
       "    </tr>\n",
       "  </tbody>\n",
       "</table>\n",
       "</div>"
      ],
      "text/plain": [
       "         Fecha             Hora     Nick      Operacion  \\\n",
       "0   14/06/2023  20:18:02.423236  tripero  Actualizacion   \n",
       "1   14/06/2023  20:18:09.082932  tripero  Actualizacion   \n",
       "2   14/06/2023  20:18:14.466234  tripero  Actualizacion   \n",
       "3   14/06/2023  20:18:28.216959       t2  Actualizacion   \n",
       "5   14/06/2023  20:18:37.554535       t2  Actualizacion   \n",
       "6   14/06/2023  20:18:42.884402       t2  Actualizacion   \n",
       "7   15/06/2023  08:36:53.661797  tripero  Actualizacion   \n",
       "9   15/06/2023  08:37:26.302342  tripero  Actualizacion   \n",
       "10  15/06/2023  09:05:03.286076  tripero  Actualizacion   \n",
       "\n",
       "                                          Nombre foto  \n",
       "0   /home/alumno/Escritorio/Ultimo/grupo28/segunda...  \n",
       "1   /home/alumno/Escritorio/Ultimo/grupo28/segunda...  \n",
       "2   /home/alumno/Escritorio/Ultimo/grupo28/segunda...  \n",
       "3   /home/alumno/Escritorio/Ultimo/grupo28/segunda...  \n",
       "5   /home/alumno/Escritorio/Ultimo/grupo28/segunda...  \n",
       "6   /home/alumno/Escritorio/Ultimo/grupo28/segunda...  \n",
       "7   /home/alumno/Escritorio/Ultimo/grupo28/segunda...  \n",
       "9   /home/alumno/Escritorio/Ultimo/grupo28/segunda...  \n",
       "10  /home/alumno/Escritorio/Ultimo/grupo28/segunda...  "
      ]
     },
     "execution_count": 37,
     "metadata": {},
     "output_type": "execute_result"
    }
   ],
   "source": [
    "#Del segundo data set solo queremos las modficaciones, esto quiere decir las actualizaciones\n",
    "modificaciones = data_set2[(data_set2['Operacion']== 'Actualizacion')]\n",
    "modificaciones"
   ]
  },
  {
   "cell_type": "code",
   "execution_count": 38,
   "id": "0bb07dc8",
   "metadata": {},
   "outputs": [
    {
     "data": {
      "text/html": [
       "<div>\n",
       "<style scoped>\n",
       "    .dataframe tbody tr th:only-of-type {\n",
       "        vertical-align: middle;\n",
       "    }\n",
       "\n",
       "    .dataframe tbody tr th {\n",
       "        vertical-align: top;\n",
       "    }\n",
       "\n",
       "    .dataframe thead th {\n",
       "        text-align: right;\n",
       "    }\n",
       "</style>\n",
       "<table border=\"1\" class=\"dataframe\">\n",
       "  <thead>\n",
       "    <tr style=\"text-align: right;\">\n",
       "      <th></th>\n",
       "      <th>Fecha</th>\n",
       "      <th>Operacion</th>\n",
       "    </tr>\n",
       "  </thead>\n",
       "  <tbody>\n",
       "    <tr>\n",
       "      <th>0</th>\n",
       "      <td>14/06/2023</td>\n",
       "      <td>Actualizacion</td>\n",
       "    </tr>\n",
       "    <tr>\n",
       "      <th>1</th>\n",
       "      <td>14/06/2023</td>\n",
       "      <td>Actualizacion</td>\n",
       "    </tr>\n",
       "    <tr>\n",
       "      <th>2</th>\n",
       "      <td>14/06/2023</td>\n",
       "      <td>Actualizacion</td>\n",
       "    </tr>\n",
       "    <tr>\n",
       "      <th>3</th>\n",
       "      <td>14/06/2023</td>\n",
       "      <td>Actualizacion</td>\n",
       "    </tr>\n",
       "    <tr>\n",
       "      <th>5</th>\n",
       "      <td>14/06/2023</td>\n",
       "      <td>Actualizacion</td>\n",
       "    </tr>\n",
       "    <tr>\n",
       "      <th>6</th>\n",
       "      <td>14/06/2023</td>\n",
       "      <td>Actualizacion</td>\n",
       "    </tr>\n",
       "    <tr>\n",
       "      <th>7</th>\n",
       "      <td>15/06/2023</td>\n",
       "      <td>Actualizacion</td>\n",
       "    </tr>\n",
       "    <tr>\n",
       "      <th>9</th>\n",
       "      <td>15/06/2023</td>\n",
       "      <td>Actualizacion</td>\n",
       "    </tr>\n",
       "    <tr>\n",
       "      <th>10</th>\n",
       "      <td>15/06/2023</td>\n",
       "      <td>Actualizacion</td>\n",
       "    </tr>\n",
       "  </tbody>\n",
       "</table>\n",
       "</div>"
      ],
      "text/plain": [
       "         Fecha      Operacion\n",
       "0   14/06/2023  Actualizacion\n",
       "1   14/06/2023  Actualizacion\n",
       "2   14/06/2023  Actualizacion\n",
       "3   14/06/2023  Actualizacion\n",
       "5   14/06/2023  Actualizacion\n",
       "6   14/06/2023  Actualizacion\n",
       "7   15/06/2023  Actualizacion\n",
       "9   15/06/2023  Actualizacion\n",
       "10  15/06/2023  Actualizacion"
      ]
     },
     "execution_count": 38,
     "metadata": {},
     "output_type": "execute_result"
    }
   ],
   "source": [
    "#Limpio las columnas de hora, nombre y nick que no me interesan\n",
    "modificaciones = modificaciones.drop('Hora',axis=1).drop('Nick',axis=1).drop('Nombre foto',axis=1)\n",
    "modificaciones"
   ]
  },
  {
   "cell_type": "code",
   "execution_count": 39,
   "id": "dd8a46d8",
   "metadata": {},
   "outputs": [
    {
     "data": {
      "text/html": [
       "<div>\n",
       "<style scoped>\n",
       "    .dataframe tbody tr th:only-of-type {\n",
       "        vertical-align: middle;\n",
       "    }\n",
       "\n",
       "    .dataframe tbody tr th {\n",
       "        vertical-align: top;\n",
       "    }\n",
       "\n",
       "    .dataframe thead th {\n",
       "        text-align: right;\n",
       "    }\n",
       "</style>\n",
       "<table border=\"1\" class=\"dataframe\">\n",
       "  <thead>\n",
       "    <tr style=\"text-align: right;\">\n",
       "      <th></th>\n",
       "      <th>Operacion</th>\n",
       "      <th>Dia</th>\n",
       "    </tr>\n",
       "  </thead>\n",
       "  <tbody>\n",
       "    <tr>\n",
       "      <th>0</th>\n",
       "      <td>Actualizacion</td>\n",
       "      <td>Wednesday</td>\n",
       "    </tr>\n",
       "    <tr>\n",
       "      <th>1</th>\n",
       "      <td>Actualizacion</td>\n",
       "      <td>Wednesday</td>\n",
       "    </tr>\n",
       "    <tr>\n",
       "      <th>2</th>\n",
       "      <td>Actualizacion</td>\n",
       "      <td>Wednesday</td>\n",
       "    </tr>\n",
       "    <tr>\n",
       "      <th>3</th>\n",
       "      <td>Actualizacion</td>\n",
       "      <td>Wednesday</td>\n",
       "    </tr>\n",
       "    <tr>\n",
       "      <th>5</th>\n",
       "      <td>Actualizacion</td>\n",
       "      <td>Wednesday</td>\n",
       "    </tr>\n",
       "    <tr>\n",
       "      <th>6</th>\n",
       "      <td>Actualizacion</td>\n",
       "      <td>Wednesday</td>\n",
       "    </tr>\n",
       "    <tr>\n",
       "      <th>7</th>\n",
       "      <td>Actualizacion</td>\n",
       "      <td>Thursday</td>\n",
       "    </tr>\n",
       "    <tr>\n",
       "      <th>9</th>\n",
       "      <td>Actualizacion</td>\n",
       "      <td>Thursday</td>\n",
       "    </tr>\n",
       "    <tr>\n",
       "      <th>10</th>\n",
       "      <td>Actualizacion</td>\n",
       "      <td>Thursday</td>\n",
       "    </tr>\n",
       "  </tbody>\n",
       "</table>\n",
       "</div>"
      ],
      "text/plain": [
       "        Operacion        Dia\n",
       "0   Actualizacion  Wednesday\n",
       "1   Actualizacion  Wednesday\n",
       "2   Actualizacion  Wednesday\n",
       "3   Actualizacion  Wednesday\n",
       "5   Actualizacion  Wednesday\n",
       "6   Actualizacion  Wednesday\n",
       "7   Actualizacion   Thursday\n",
       "9   Actualizacion   Thursday\n",
       "10  Actualizacion   Thursday"
      ]
     },
     "execution_count": 39,
     "metadata": {},
     "output_type": "execute_result"
    }
   ],
   "source": [
    "#Convierto el formato de fecha para usar la funcion day_name\n",
    "modificaciones['Fecha'] = pd.to_datetime(modificaciones['Fecha'], format='%d/%m/%Y')\n",
    "# Obtengo el dia de la semana con day_name y lo inserto como columna en el dataframe\n",
    "modificaciones['Dia'] = modificaciones['Fecha'].dt.day_name()\n",
    "#Ya no necesito fecha asi que la podemos eliminar de estea df\n",
    "modificaciones = modificaciones.drop('Fecha',axis=1)\n",
    "modificaciones"
   ]
  },
  {
   "cell_type": "code",
   "execution_count": 40,
   "id": "cbeee00a",
   "metadata": {},
   "outputs": [
    {
     "data": {
      "text/plain": [
       "<Axes: xlabel='Dia'>"
      ]
     },
     "execution_count": 40,
     "metadata": {},
     "output_type": "execute_result"
    },
    {
     "data": {
      "image/png": "[encoded data removed]",
      "text/plain": [
       "<Figure size 640x480 with 1 Axes>"
      ]
     },
     "metadata": {},
     "output_type": "display_data"
    }
   ],
   "source": [
    "#Cuante las modificaciones por columna dia y las ploteo en forma de barra\n",
    "mod_agrupadas = modificaciones.value_counts('Dia')\n",
    "mod_agrupadas.plot(kind=\"bar\")"
   ]
  },
  {
   "cell_type": "markdown",
   "id": "b57ac62d",
   "metadata": {},
   "source": [
    "Calculo del tamaño en bytes promedio de las imágenes actualizadas por cada perfil,\n",
    "incluir los perfiles que no hayan realizado actualizaciones"
   ]
  },
  {
   "cell_type": "code",
   "execution_count": 41,
   "id": "39688bc6",
   "metadata": {},
   "outputs": [
    {
     "data": {
      "text/html": [
       "<div>\n",
       "<style scoped>\n",
       "    .dataframe tbody tr th:only-of-type {\n",
       "        vertical-align: middle;\n",
       "    }\n",
       "\n",
       "    .dataframe tbody tr th {\n",
       "        vertical-align: top;\n",
       "    }\n",
       "\n",
       "    .dataframe thead th {\n",
       "        text-align: right;\n",
       "    }\n",
       "</style>\n",
       "<table border=\"1\" class=\"dataframe\">\n",
       "  <thead>\n",
       "    <tr style=\"text-align: right;\">\n",
       "      <th></th>\n",
       "      <th>Nick</th>\n",
       "      <th>Operacion</th>\n",
       "      <th>Nombre foto</th>\n",
       "    </tr>\n",
       "  </thead>\n",
       "  <tbody>\n",
       "    <tr>\n",
       "      <th>0</th>\n",
       "      <td>tripero</td>\n",
       "      <td>Actualizacion</td>\n",
       "      <td>/home/alumno/Escritorio/Ultimo/grupo28/segunda...</td>\n",
       "    </tr>\n",
       "    <tr>\n",
       "      <th>1</th>\n",
       "      <td>tripero</td>\n",
       "      <td>Actualizacion</td>\n",
       "      <td>/home/alumno/Escritorio/Ultimo/grupo28/segunda...</td>\n",
       "    </tr>\n",
       "    <tr>\n",
       "      <th>2</th>\n",
       "      <td>tripero</td>\n",
       "      <td>Actualizacion</td>\n",
       "      <td>/home/alumno/Escritorio/Ultimo/grupo28/segunda...</td>\n",
       "    </tr>\n",
       "    <tr>\n",
       "      <th>3</th>\n",
       "      <td>t2</td>\n",
       "      <td>Actualizacion</td>\n",
       "      <td>/home/alumno/Escritorio/Ultimo/grupo28/segunda...</td>\n",
       "    </tr>\n",
       "    <tr>\n",
       "      <th>5</th>\n",
       "      <td>t2</td>\n",
       "      <td>Actualizacion</td>\n",
       "      <td>/home/alumno/Escritorio/Ultimo/grupo28/segunda...</td>\n",
       "    </tr>\n",
       "    <tr>\n",
       "      <th>6</th>\n",
       "      <td>t2</td>\n",
       "      <td>Actualizacion</td>\n",
       "      <td>/home/alumno/Escritorio/Ultimo/grupo28/segunda...</td>\n",
       "    </tr>\n",
       "    <tr>\n",
       "      <th>7</th>\n",
       "      <td>tripero</td>\n",
       "      <td>Actualizacion</td>\n",
       "      <td>/home/alumno/Escritorio/Ultimo/grupo28/segunda...</td>\n",
       "    </tr>\n",
       "    <tr>\n",
       "      <th>9</th>\n",
       "      <td>tripero</td>\n",
       "      <td>Actualizacion</td>\n",
       "      <td>/home/alumno/Escritorio/Ultimo/grupo28/segunda...</td>\n",
       "    </tr>\n",
       "    <tr>\n",
       "      <th>10</th>\n",
       "      <td>tripero</td>\n",
       "      <td>Actualizacion</td>\n",
       "      <td>/home/alumno/Escritorio/Ultimo/grupo28/segunda...</td>\n",
       "    </tr>\n",
       "  </tbody>\n",
       "</table>\n",
       "</div>"
      ],
      "text/plain": [
       "       Nick      Operacion                                        Nombre foto\n",
       "0   tripero  Actualizacion  /home/alumno/Escritorio/Ultimo/grupo28/segunda...\n",
       "1   tripero  Actualizacion  /home/alumno/Escritorio/Ultimo/grupo28/segunda...\n",
       "2   tripero  Actualizacion  /home/alumno/Escritorio/Ultimo/grupo28/segunda...\n",
       "3        t2  Actualizacion  /home/alumno/Escritorio/Ultimo/grupo28/segunda...\n",
       "5        t2  Actualizacion  /home/alumno/Escritorio/Ultimo/grupo28/segunda...\n",
       "6        t2  Actualizacion  /home/alumno/Escritorio/Ultimo/grupo28/segunda...\n",
       "7   tripero  Actualizacion  /home/alumno/Escritorio/Ultimo/grupo28/segunda...\n",
       "9   tripero  Actualizacion  /home/alumno/Escritorio/Ultimo/grupo28/segunda...\n",
       "10  tripero  Actualizacion  /home/alumno/Escritorio/Ultimo/grupo28/segunda..."
      ]
     },
     "execution_count": 41,
     "metadata": {},
     "output_type": "execute_result"
    }
   ],
   "source": [
    "#Del dataset2 filtramos solo las que son de actualizacion\n",
    "actualizaciones = data_set2[(data_set2['Operacion']== 'Actualizacion')]\n",
    "#eliminamos las columnas de hora y fecha que no las necesitamos\n",
    "actualizaciones = actualizaciones.drop('Hora',axis=1).drop('Fecha',axis=1)\n",
    "actualizaciones\n",
    "#Ahora hacemos un join entre los dos csv con merge"
   ]
  },
  {
   "cell_type": "code",
   "execution_count": 42,
   "id": "4f402f4f",
   "metadata": {},
   "outputs": [],
   "source": [
    "data_set = data_set.rename(columns={'Ubicación': 'Nombre foto'})\n",
    "#Cambiamos el nombre para poder hacer un join con la palabra clave de nombre foto entre ambos dataframes\n"
   ]
  },
  {
   "cell_type": "code",
   "execution_count": 44,
   "id": "09dc7883",
   "metadata": {},
   "outputs": [
    {
     "data": {
      "text/html": [
       "<div>\n",
       "<style scoped>\n",
       "    .dataframe tbody tr th:only-of-type {\n",
       "        vertical-align: middle;\n",
       "    }\n",
       "\n",
       "    .dataframe tbody tr th {\n",
       "        vertical-align: top;\n",
       "    }\n",
       "\n",
       "    .dataframe thead th {\n",
       "        text-align: right;\n",
       "    }\n",
       "</style>\n",
       "<table border=\"1\" class=\"dataframe\">\n",
       "  <thead>\n",
       "    <tr style=\"text-align: right;\">\n",
       "      <th></th>\n",
       "      <th>Nick</th>\n",
       "      <th>Operacion</th>\n",
       "      <th>Nombre foto</th>\n",
       "      <th>Tamaño</th>\n",
       "    </tr>\n",
       "  </thead>\n",
       "  <tbody>\n",
       "    <tr>\n",
       "      <th>0</th>\n",
       "      <td>tripero</td>\n",
       "      <td>Actualizacion</td>\n",
       "      <td>/home/alumno/Escritorio/Ultimo/grupo28/segunda...</td>\n",
       "      <td>31473</td>\n",
       "    </tr>\n",
       "    <tr>\n",
       "      <th>1</th>\n",
       "      <td>tripero</td>\n",
       "      <td>Actualizacion</td>\n",
       "      <td>/home/alumno/Escritorio/Ultimo/grupo28/segunda...</td>\n",
       "      <td>31473</td>\n",
       "    </tr>\n",
       "    <tr>\n",
       "      <th>2</th>\n",
       "      <td>tripero</td>\n",
       "      <td>Actualizacion</td>\n",
       "      <td>/home/alumno/Escritorio/Ultimo/grupo28/segunda...</td>\n",
       "      <td>31473</td>\n",
       "    </tr>\n",
       "    <tr>\n",
       "      <th>3</th>\n",
       "      <td>tripero</td>\n",
       "      <td>Actualizacion</td>\n",
       "      <td>/home/alumno/Escritorio/Ultimo/grupo28/segunda...</td>\n",
       "      <td>25119</td>\n",
       "    </tr>\n",
       "    <tr>\n",
       "      <th>4</th>\n",
       "      <td>tripero</td>\n",
       "      <td>Actualizacion</td>\n",
       "      <td>/home/alumno/Escritorio/Ultimo/grupo28/segunda...</td>\n",
       "      <td>76794</td>\n",
       "    </tr>\n",
       "    <tr>\n",
       "      <th>5</th>\n",
       "      <td>t2</td>\n",
       "      <td>Actualizacion</td>\n",
       "      <td>/home/alumno/Escritorio/Ultimo/grupo28/segunda...</td>\n",
       "      <td>76794</td>\n",
       "    </tr>\n",
       "    <tr>\n",
       "      <th>6</th>\n",
       "      <td>t2</td>\n",
       "      <td>Actualizacion</td>\n",
       "      <td>/home/alumno/Escritorio/Ultimo/grupo28/segunda...</td>\n",
       "      <td>142085</td>\n",
       "    </tr>\n",
       "    <tr>\n",
       "      <th>7</th>\n",
       "      <td>t2</td>\n",
       "      <td>Actualizacion</td>\n",
       "      <td>/home/alumno/Escritorio/Ultimo/grupo28/segunda...</td>\n",
       "      <td>8580</td>\n",
       "    </tr>\n",
       "    <tr>\n",
       "      <th>8</th>\n",
       "      <td>tripero</td>\n",
       "      <td>Actualizacion</td>\n",
       "      <td>/home/alumno/Escritorio/Ultimo/grupo28/segunda...</td>\n",
       "      <td>67466</td>\n",
       "    </tr>\n",
       "  </tbody>\n",
       "</table>\n",
       "</div>"
      ],
      "text/plain": [
       "      Nick      Operacion                                        Nombre foto  \\\n",
       "0  tripero  Actualizacion  /home/alumno/Escritorio/Ultimo/grupo28/segunda...   \n",
       "1  tripero  Actualizacion  /home/alumno/Escritorio/Ultimo/grupo28/segunda...   \n",
       "2  tripero  Actualizacion  /home/alumno/Escritorio/Ultimo/grupo28/segunda...   \n",
       "3  tripero  Actualizacion  /home/alumno/Escritorio/Ultimo/grupo28/segunda...   \n",
       "4  tripero  Actualizacion  /home/alumno/Escritorio/Ultimo/grupo28/segunda...   \n",
       "5       t2  Actualizacion  /home/alumno/Escritorio/Ultimo/grupo28/segunda...   \n",
       "6       t2  Actualizacion  /home/alumno/Escritorio/Ultimo/grupo28/segunda...   \n",
       "7       t2  Actualizacion  /home/alumno/Escritorio/Ultimo/grupo28/segunda...   \n",
       "8  tripero  Actualizacion  /home/alumno/Escritorio/Ultimo/grupo28/segunda...   \n",
       "\n",
       "   Tamaño  \n",
       "0   31473  \n",
       "1   31473  \n",
       "2   31473  \n",
       "3   25119  \n",
       "4   76794  \n",
       "5   76794  \n",
       "6  142085  \n",
       "7    8580  \n",
       "8   67466  "
      ]
     },
     "execution_count": 44,
     "metadata": {},
     "output_type": "execute_result"
    }
   ],
   "source": [
    "#Realizo el join con Nombre foto'\n",
    "df_unido = pd.merge(actualizaciones, data_set, on='Nombre foto')\n",
    "df_unido=df_unido.drop('Etiquetas',axis=1).drop('Tipo',axis=1).drop('Descripción',axis=1).drop('Fecha',axis=1).drop('Resolución',axis=1).drop('Ultimo Perfil',axis=1)\n",
    "#Mostramos el nuevo df producto del merge\n",
    "df_unido"
   ]
  },
  {
   "cell_type": "code",
   "execution_count": 45,
   "id": "e2ad72e5",
   "metadata": {
    "scrolled": true
   },
   "outputs": [
    {
     "data": {
      "text/plain": [
       "['tripero', 't2', 'sdf']"
      ]
     },
     "execution_count": 45,
     "metadata": {},
     "output_type": "execute_result"
    }
   ],
   "source": [
    "#Ahora como vamos a necesitar todos los perfiles a pesar de que no hayan actualizado fotos los traemos del archivo json\n",
    "import json\n",
    "with open('perfiles.json') as file:\n",
    "    perfiles = json.load(file)\n",
    "#Extraemos los nicks en una lista para posterior mente crear un nuevo data frame \n",
    "nicks = list(map(lambda n: n['Alias'], perfiles))\n",
    "nicks"
   ]
  },
  {
   "cell_type": "code",
   "execution_count": 55,
   "id": "2fe1b8b0",
   "metadata": {},
   "outputs": [
    {
     "data": {
      "text/html": [
       "<div>\n",
       "<style scoped>\n",
       "    .dataframe tbody tr th:only-of-type {\n",
       "        vertical-align: middle;\n",
       "    }\n",
       "\n",
       "    .dataframe tbody tr th {\n",
       "        vertical-align: top;\n",
       "    }\n",
       "\n",
       "    .dataframe thead th {\n",
       "        text-align: right;\n",
       "    }\n",
       "</style>\n",
       "<table border=\"1\" class=\"dataframe\">\n",
       "  <thead>\n",
       "    <tr style=\"text-align: right;\">\n",
       "      <th></th>\n",
       "      <th>Perfil</th>\n",
       "      <th>Tamaño promedio</th>\n",
       "    </tr>\n",
       "  </thead>\n",
       "  <tbody>\n",
       "    <tr>\n",
       "      <th>0</th>\n",
       "      <td>tripero</td>\n",
       "      <td>43966.333333</td>\n",
       "    </tr>\n",
       "    <tr>\n",
       "      <th>1</th>\n",
       "      <td>t2</td>\n",
       "      <td>75819.666667</td>\n",
       "    </tr>\n",
       "    <tr>\n",
       "      <th>2</th>\n",
       "      <td>sdf</td>\n",
       "      <td>0.000000</td>\n",
       "    </tr>\n",
       "  </tbody>\n",
       "</table>\n",
       "</div>"
      ],
      "text/plain": [
       "    Perfil  Tamaño promedio\n",
       "0  tripero     43966.333333\n",
       "1       t2     75819.666667\n",
       "2      sdf         0.000000"
      ]
     },
     "execution_count": 55,
     "metadata": {},
     "output_type": "execute_result"
    }
   ],
   "source": [
    "#Calculamos el tamaño de promedio de cada imagen actualizada por cada usuario\n",
    "def calcular_promedio(nick):\n",
    "    sus_imagenes = df_unido[(df_unido['Nick']==nick)]#filtro por nick\n",
    "    promedio = sus_imagenes['Tamaño'].mean() #calculo usando mean()\n",
    "    return promedio\n",
    "\n",
    "promedios = [ calcular_promedio(nick) for nick in nicks] #para cada nick calculo su promedio\n",
    "\n",
    "datos = {'Perfil':nicks, 'Tamaño promedio': promedios} #creamos el data frame\n",
    "\n",
    "df_promedios = pd.DataFrame(data=datos).fillna(0) #a las columnas NaN las rellenamos con un 0\n",
    "df_promedios"
   ]
  }
 ],
 "metadata": {
  "kernelspec": {
   "display_name": "Python 3 (ipykernel)",
   "language": "python",
   "name": "python3"
  },
  "language_info": {
   "codemirror_mode": {
    "name": "ipython",
    "version": 3
   },
   "file_extension": ".py",
   "mimetype": "text/x-python",
   "name": "python",
   "nbconvert_exporter": "python",
   "pygments_lexer": "ipython3",
   "version": "3.11.3"
  }
 },
 "nbformat": 4,
 "nbformat_minor": 5
}
